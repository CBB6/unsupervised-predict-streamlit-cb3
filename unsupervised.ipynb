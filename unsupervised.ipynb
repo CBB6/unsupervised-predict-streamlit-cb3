{
 "cells": [
  {
   "cell_type": "markdown",
   "id": "4d714eb8",
   "metadata": {},
   "source": [
    "# Unsupervised Predict Student Solution\n",
    "\n",
    "© Explore Data Science Academy\n",
    "\n",
    "---\n",
    "### Honour Code\n",
    "\n",
    "I {**CB3: Atlegang Mogane, Lebogang Gift Molepo, Mbalenhle Malinga, Mike Ngwenya,Alette Baloyi**}, confirm - by submitting this document - that the solutions in this notebook are a result of my own work and that I abide by the [EDSA honour code](https://drive.google.com/file/d/1QDCjGZJ8-FmJE3bZdIQNwnJyQKPhHZBn/view?usp=sharing).\n",
    "\n",
    "Non-compliance with the honour code constitutes a material breach of contract.\n",
    "\n",
    "\n",
    "### Predict Overview: Movie Recommendation 2022\n",
    "In today’s technology driven world, recommender systems are socially and economically critical to ensure that individuals can make optimised choices surrounding the content they engage with on a daily basis. One application where this is especially true is movie recommendations; where intelligent algorithms can help viewers find great titles from tens of thousands of options.\n",
    "\n",
    "With this context, EDSA is challenging you to construct a recommendation algorithm based on content or collaborative filtering, capable of accurately predicting how a user will rate a movie they have not yet viewed, based on their historical preferences.\n",
    "\n",
    "Providing an accurate and robust solution to this challenge has immense economic potential, with users of the system being personalised recommendations - generating platform affinity for the streaming services which best facilitates their audience's viewing"
   ]
  },
  {
   "cell_type": "markdown",
   "id": "4199289c",
   "metadata": {},
   "source": [
    "<a id=\"cont\"></a>\n",
    "\n",
    "## Table of Contents\n",
    "<a href=#one>1. Introduction</a>\n",
    "\n",
    "<a href=#two>2. Problem Statement</a>\n",
    "\n",
    "<a href=#three>3. Importing Packages</a>\n",
    "\n",
    "<a href=#four>4. Loading Data</a>\n",
    "\n",
    "<a href=#one>5. Exploratory Data Analysis (EDA)</a>\n",
    "\n"
   ]
  },
  {
   "cell_type": "markdown",
   "id": "48277dc0",
   "metadata": {},
   "source": [
    "<a id=\"one\"></a>\n",
    "## 1. Introduction\n",
    "<a href=#cont>Back to Table of Contents</a>"
   ]
  },
  {
   "cell_type": "markdown",
   "id": "699a75d7",
   "metadata": {},
   "source": [
    "The growth of information on the internet offers a variety of possibilities while simultaneously making the user's search more difficult. The recommendation system uses machine learning to examine the user's historical preferences in order to account for this complexity. Numerous applications for recommender systems exist, such as marketing and consumer websites. As an illustration, the Takealot website suggests more things when someone orders a product based on what other customers have bought. A recommender system basically predicts all the associated television shows, articles, books, and other content based on the user's pick.\n",
    "\n",
    "Most recommender systems fall into one of two categories, with a third category perhaps mixing the first two.Collaborative filtering is the first, while content filtering is the second. A model is created via collaborative filtering based on a user's prior behavior (past purchases) and the behavior of others who behave similarly. Collaboration between users results in personalized recommendations frequently. Collaborative filtering is used by Netflix, iTunes, YouTube, Amazon, and IMDB, among others. In this project, we will focus on the collaborative filtering method, which involves presenting the user with recommendations based on what other users who share their tastes have previously rated.\n",
    "\n",
    "\n",
    "\n",
    "We will develop a movie recommender system in the first section after learning about EDA and recommender systems (Content-based Filtering). The model will then be put into use on the streamlit website, where we will receive real-time forecasts."
   ]
  },
  {
   "cell_type": "markdown",
   "id": "94b4d6d6",
   "metadata": {},
   "source": [
    "<a id=\"one\"></a>\n",
    "## 2. Problem Statement\n",
    "<a href=#cont>Back to Table of Contents</a>"
   ]
  },
  {
   "cell_type": "markdown",
   "id": "74b6f64f",
   "metadata": {},
   "source": [
    "Our team has been challenged with constructing a movie recommendation algorithm based on content or collaborative filtering, capable of accurately predicting how a user will rate a movie they have not yet viewed based on their historical preferences.\n",
    "\n",
    "Providing an accurate and robust solution to this challenge has immense economic potential, with users of the system being exposed to content they would like to view or purchase - generating revenue and platform affinity."
   ]
  },
  {
   "cell_type": "markdown",
   "id": "8d498c2f",
   "metadata": {},
   "source": [
    "<a id=\"one\"></a>\n",
    "### 3. Importing Packages\n",
    "<a href=#cont>Back to Table of Contents</a>"
   ]
  },
  {
   "cell_type": "code",
   "execution_count": 66,
   "id": "8da4545a",
   "metadata": {},
   "outputs": [],
   "source": [
    "# Install packages\n",
    "# Packages for data processiong\n",
    "import numpy as np\n",
    "import pandas as pd\n",
    "import datetime\n",
    "from sklearn import preprocessing\n",
    "from sklearn.datasets import make_blobs\n",
    "from sklearn.preprocessing import StandardScaler\n",
    "from sklearn.feature_extraction.text import TfidfTransformer\n",
    "\n",
    "\n",
    "#function to view dataframes side by side\n",
    "from IPython.display import display_html\n",
    "from itertools import chain,cycle\n",
    "def display_side_by_side(*args,titles=cycle([''])):\n",
    "    html_str=''\n",
    "    for df,title in zip(args, chain(titles,cycle(['</br>'])) ):\n",
    "        html_str+='<th style=\"text-align:center\"><td style=\"vertical-align:top\">'\n",
    "        html_str+=f'<h2>{title}</h2>'\n",
    "        html_str+=df.to_html().replace('table','table style=\"display:inline\"')\n",
    "        html_str+='</td></th>'\n",
    "    display_html(html_str,raw=True)\n",
    "\n",
    "import re\n",
    "from scipy.sparse import csr_matrix\n",
    "import scipy as sp\n",
    "\n",
    "# Packages for visualization\n",
    "import matplotlib.pyplot as plt\n",
    "import seaborn as sns\n",
    "%matplotlib inline\n",
    "\n",
    "\n",
    "\n",
    "# Packages for model evaluation\n",
    "from sklearn.metrics import mean_squared_error\n",
    "from sklearn.metrics import mean_absolute_error\n",
    "from time import time\n",
    "\n",
    "# Packages to avoid warnings\n",
    "import warnings\n",
    "warnings.filterwarnings(\"ignore\")\n",
    "\n",
    "# Packages for saving models\n",
    "import pickle\n",
    "\n",
    "# Ramdomization\n",
    "import random\n",
    "\n",
    "sns.set(style='whitegrid', palette='muted',\n",
    "        rc={'figure.figsize': (15,10)})"
   ]
  },
  {
   "cell_type": "markdown",
   "id": "a9fd25e5",
   "metadata": {},
   "source": [
    "<a id=\"one\"></a>\n",
    "### 4. Loading Data\n",
    "<a href=#cont>Back to Table of Contents</a>"
   ]
  },
  {
   "cell_type": "code",
   "execution_count": 37,
   "id": "3ab88270",
   "metadata": {},
   "outputs": [
    {
     "data": {
      "text/html": [
       "<th style=\"text-align:center\"><td style=\"vertical-align:top\"><h2>rating</h2><table style=\"display:inline\" border=\"1\" class=\"dataframe\">\n",
       "  <thead>\n",
       "    <tr style=\"text-align: right;\">\n",
       "      <th></th>\n",
       "      <th>userId</th>\n",
       "      <th>movieId</th>\n",
       "      <th>rating</th>\n",
       "      <th>timestamp</th>\n",
       "    </tr>\n",
       "  </thead>\n",
       "  <tbody>\n",
       "    <tr>\n",
       "      <th>0</th>\n",
       "      <td>5163</td>\n",
       "      <td>57669</td>\n",
       "      <td>4.0</td>\n",
       "      <td>1518349992</td>\n",
       "    </tr>\n",
       "    <tr>\n",
       "      <th>1</th>\n",
       "      <td>106343</td>\n",
       "      <td>5</td>\n",
       "      <td>4.5</td>\n",
       "      <td>1206238739</td>\n",
       "    </tr>\n",
       "  </tbody>\n",
       "</table style=\"display:inline\"></td></th><th style=\"text-align:center\"><td style=\"vertical-align:top\"><h2>movies</h2><table style=\"display:inline\" border=\"1\" class=\"dataframe\">\n",
       "  <thead>\n",
       "    <tr style=\"text-align: right;\">\n",
       "      <th></th>\n",
       "      <th>movieId</th>\n",
       "      <th>title</th>\n",
       "      <th>genres</th>\n",
       "    </tr>\n",
       "  </thead>\n",
       "  <tbody>\n",
       "    <tr>\n",
       "      <th>0</th>\n",
       "      <td>1</td>\n",
       "      <td>Toy Story (1995)</td>\n",
       "      <td>Adventure|Animation|Children|Comedy|Fantasy</td>\n",
       "    </tr>\n",
       "    <tr>\n",
       "      <th>1</th>\n",
       "      <td>2</td>\n",
       "      <td>Jumanji (1995)</td>\n",
       "      <td>Adventure|Children|Fantasy</td>\n",
       "    </tr>\n",
       "  </tbody>\n",
       "</table style=\"display:inline\"></td></th><th style=\"text-align:center\"><td style=\"vertical-align:top\"><h2>imbd_data</h2><table style=\"display:inline\" border=\"1\" class=\"dataframe\">\n",
       "  <thead>\n",
       "    <tr style=\"text-align: right;\">\n",
       "      <th></th>\n",
       "      <th>movieId</th>\n",
       "      <th>title_cast</th>\n",
       "      <th>director</th>\n",
       "      <th>runtime</th>\n",
       "      <th>budget</th>\n",
       "      <th>plot_keywords</th>\n",
       "    </tr>\n",
       "  </thead>\n",
       "  <tbody>\n",
       "    <tr>\n",
       "      <th>0</th>\n",
       "      <td>1</td>\n",
       "      <td>Tom Hanks|Tim Allen|Don Rickles|Jim Varney|Wallace Shawn|John Ratzenberger|Annie Potts|John Morris|Erik von Detten|Laurie Metcalf|R. Lee Ermey|Sarah Freeman|Penn Jillette|Jack Angel|Spencer Aste</td>\n",
       "      <td>John Lasseter</td>\n",
       "      <td>81.0</td>\n",
       "      <td>$30,000,000</td>\n",
       "      <td>toy|rivalry|cowboy|cgi animation</td>\n",
       "    </tr>\n",
       "  </tbody>\n",
       "</table style=\"display:inline\"></td></th><th style=\"text-align:center\"><td style=\"vertical-align:top\"><h2>tags</h2><table style=\"display:inline\" border=\"1\" class=\"dataframe\">\n",
       "  <thead>\n",
       "    <tr style=\"text-align: right;\">\n",
       "      <th></th>\n",
       "      <th>userId</th>\n",
       "      <th>movieId</th>\n",
       "      <th>tag</th>\n",
       "      <th>timestamp</th>\n",
       "    </tr>\n",
       "  </thead>\n",
       "  <tbody>\n",
       "    <tr>\n",
       "      <th>0</th>\n",
       "      <td>3</td>\n",
       "      <td>260</td>\n",
       "      <td>classic</td>\n",
       "      <td>1439472355</td>\n",
       "    </tr>\n",
       "    <tr>\n",
       "      <th>1</th>\n",
       "      <td>3</td>\n",
       "      <td>260</td>\n",
       "      <td>sci-fi</td>\n",
       "      <td>1439472256</td>\n",
       "    </tr>\n",
       "  </tbody>\n",
       "</table style=\"display:inline\"></td></th><th style=\"text-align:center\"><td style=\"vertical-align:top\"><h2>genome_tags</h2><table style=\"display:inline\" border=\"1\" class=\"dataframe\">\n",
       "  <thead>\n",
       "    <tr style=\"text-align: right;\">\n",
       "      <th></th>\n",
       "      <th>tagId</th>\n",
       "      <th>tag</th>\n",
       "    </tr>\n",
       "  </thead>\n",
       "  <tbody>\n",
       "    <tr>\n",
       "      <th>0</th>\n",
       "      <td>1</td>\n",
       "      <td>007</td>\n",
       "    </tr>\n",
       "    <tr>\n",
       "      <th>1</th>\n",
       "      <td>2</td>\n",
       "      <td>007 (series)</td>\n",
       "    </tr>\n",
       "  </tbody>\n",
       "</table style=\"display:inline\"></td></th><th style=\"text-align:center\"><td style=\"vertical-align:top\"><h2>genome_scores</h2><table style=\"display:inline\" border=\"1\" class=\"dataframe\">\n",
       "  <thead>\n",
       "    <tr style=\"text-align: right;\">\n",
       "      <th></th>\n",
       "      <th>movieId</th>\n",
       "      <th>tagId</th>\n",
       "      <th>relevance</th>\n",
       "    </tr>\n",
       "  </thead>\n",
       "  <tbody>\n",
       "    <tr>\n",
       "      <th>0</th>\n",
       "      <td>1</td>\n",
       "      <td>1</td>\n",
       "      <td>0.02875</td>\n",
       "    </tr>\n",
       "    <tr>\n",
       "      <th>1</th>\n",
       "      <td>1</td>\n",
       "      <td>2</td>\n",
       "      <td>0.02375</td>\n",
       "    </tr>\n",
       "  </tbody>\n",
       "</table style=\"display:inline\"></td></th><th style=\"text-align:center\"><td style=\"vertical-align:top\"><h2>links</h2><table style=\"display:inline\" border=\"1\" class=\"dataframe\">\n",
       "  <thead>\n",
       "    <tr style=\"text-align: right;\">\n",
       "      <th></th>\n",
       "      <th>movieId</th>\n",
       "      <th>imdbId</th>\n",
       "      <th>tmdbId</th>\n",
       "    </tr>\n",
       "  </thead>\n",
       "  <tbody>\n",
       "    <tr>\n",
       "      <th>0</th>\n",
       "      <td>1</td>\n",
       "      <td>114709</td>\n",
       "      <td>862.0</td>\n",
       "    </tr>\n",
       "    <tr>\n",
       "      <th>1</th>\n",
       "      <td>2</td>\n",
       "      <td>113497</td>\n",
       "      <td>8844.0</td>\n",
       "    </tr>\n",
       "  </tbody>\n",
       "</table style=\"display:inline\"></td></th>"
      ]
     },
     "metadata": {},
     "output_type": "display_data"
    }
   ],
   "source": [
    "#loading data \n",
    "rating = pd.read_csv('train.csv')\n",
    "tags = pd.read_csv('tags.csv')\n",
    "movies= pd.read_csv('movies.csv')\n",
    "imbd_data = pd.read_csv('imdb_data.csv')\n",
    "genome_tags = pd.read_csv('genome_tags.csv')\n",
    "genome_scores =pd.read_csv('genome_scores.csv')\n",
    "test = pd.read_csv('test.csv')\n",
    "#imbd_data =pd.read_csv('imdb_data.csv')\n",
    "links= pd.read_csv('links.csv')\n",
    "\n",
    "# visualize the dataset\n",
    "display_side_by_side(rating.head(2),movies.head(2),imbd_data.head(1), tags.head(2),genome_tags.head(2),\n",
    "                     genome_scores.head(2),links.head(2),titles =\n",
    "                   ['rating','movies','imbd_data', 'tags', 'genome_tags', 'genome_scores', 'links'])"
   ]
  },
  {
   "cell_type": "markdown",
   "id": "09787189",
   "metadata": {},
   "source": [
    "<a id=\"one\"></a>\n",
    "### 5. EDA (Exploratory Data Analysis)\n",
    "<a href=#cont>Back to Table of Contents</a>"
   ]
  },
  {
   "cell_type": "markdown",
   "id": "5422233c",
   "metadata": {},
   "source": [
    "Let's first take a look at the shape of all the datasets in order to have a general overview."
   ]
  },
  {
   "cell_type": "code",
   "execution_count": 39,
   "id": "427cc6c9",
   "metadata": {},
   "outputs": [
    {
     "name": "stdout",
     "output_type": "stream",
     "text": [
      "genome_tags shape is (1128, 2)\n",
      "genome_scores shape is (15584448, 3)\n",
      "movies shape is (62423, 3)\n",
      "imbd_data shape is (27278, 6)\n",
      "links shape is (62423, 3)\n",
      "rating shape is(10000038, 4)\n",
      "tags shape is(1093360, 4)\n"
     ]
    }
   ],
   "source": [
    "print(f\"genome_tags shape is {genome_tags.shape}\")\n",
    "print(f\"genome_scores shape is {genome_scores.shape}\")\n",
    "print(f\"movies shape is {movies.shape}\")\n",
    "print(f\"imbd_data shape is {imbd_data.shape}\")\n",
    "print(f\"links shape is {links.shape}\")\n",
    "print (f'rating shape is{rating.shape}')#print(train.iloc[::250000, :])\n",
    "print (f'tags shape is{tags.shape}')"
   ]
  },
  {
   "cell_type": "code",
   "execution_count": 40,
   "id": "3542ac84",
   "metadata": {},
   "outputs": [
    {
     "name": "stdout",
     "output_type": "stream",
     "text": [
      "genome_tags null values is: tagId    0.0\n",
      "tag      0.0\n",
      "dtype: float64\n",
      "genome_scores null values is: movieId      0.0\n",
      "tagId        0.0\n",
      "relevance    0.0\n",
      "dtype: float64\n",
      "movies shape null values is: movieId    0.0\n",
      "title      0.0\n",
      "genres     0.0\n",
      "dtype: float64\n",
      "imbd_data null values is: movieId           0.000000\n",
      "title_cast       36.908864\n",
      "director         36.197668\n",
      "runtime          44.317765\n",
      "budget           71.016937\n",
      "plot_keywords    40.611482\n",
      "dtype: float64\n",
      "links null values is: movieId    0.000000\n",
      "imdbId     0.000000\n",
      "tmdbId     0.171411\n",
      "dtype: float64\n",
      "rating null values is:userId       0.0\n",
      "movieId      0.0\n",
      "rating       0.0\n",
      "timestamp    0.0\n",
      "dtype: float64\n",
      "tags null values is:userId       0.000000\n",
      "movieId      0.000000\n",
      "tag          0.001463\n",
      "timestamp    0.000000\n",
      "dtype: float64\n"
     ]
    }
   ],
   "source": [
    "#check null values of the datasets\n",
    "print(f\"genome_tags null values is: {genome_tags.isnull().mean()*100}\")\n",
    "print(f\"genome_scores null values is: {genome_scores.isnull().mean()*100}\")\n",
    "print(f\"movies shape null values is: {movies.isnull().mean()*100}\")\n",
    "print(f\"imbd_data null values is: {imbd_data.isnull().mean()*100}\")\n",
    "print(f\"links null values is: {links.isnull().mean()*100}\")\n",
    "print (f'rating null values is:{rating.isnull().mean()*100}')\n",
    "print (f'tags null values is:{tags.isnull().mean()*100}')"
   ]
  },
  {
   "cell_type": "code",
   "execution_count": 42,
   "id": "77a0a7cf",
   "metadata": {},
   "outputs": [
    {
     "name": "stdout",
     "output_type": "stream",
     "text": [
      "There are 162541 unique users and 48213 unique movies in this data set\n"
     ]
    }
   ],
   "source": [
    "num_users = len(rating.userId.unique())\n",
    "num_items = len(rating.movieId.unique())\n",
    "print('There are {} unique users and {} unique movies in this data set'.format(num_users, num_items))"
   ]
  },
  {
   "cell_type": "code",
   "execution_count": 43,
   "id": "a2e8a905",
   "metadata": {},
   "outputs": [
    {
     "data": {
      "text/html": [
       "<div>\n",
       "<style scoped>\n",
       "    .dataframe tbody tr th:only-of-type {\n",
       "        vertical-align: middle;\n",
       "    }\n",
       "\n",
       "    .dataframe tbody tr th {\n",
       "        vertical-align: top;\n",
       "    }\n",
       "\n",
       "    .dataframe thead th {\n",
       "        text-align: right;\n",
       "    }\n",
       "</style>\n",
       "<table border=\"1\" class=\"dataframe\">\n",
       "  <thead>\n",
       "    <tr style=\"text-align: right;\">\n",
       "      <th></th>\n",
       "      <th>count</th>\n",
       "    </tr>\n",
       "    <tr>\n",
       "      <th>rating</th>\n",
       "      <th></th>\n",
       "    </tr>\n",
       "  </thead>\n",
       "  <tbody>\n",
       "    <tr>\n",
       "      <th>0.5</th>\n",
       "      <td>157571</td>\n",
       "    </tr>\n",
       "    <tr>\n",
       "      <th>1.0</th>\n",
       "      <td>311213</td>\n",
       "    </tr>\n",
       "    <tr>\n",
       "      <th>1.5</th>\n",
       "      <td>159731</td>\n",
       "    </tr>\n",
       "    <tr>\n",
       "      <th>2.0</th>\n",
       "      <td>656821</td>\n",
       "    </tr>\n",
       "    <tr>\n",
       "      <th>2.5</th>\n",
       "      <td>505578</td>\n",
       "    </tr>\n",
       "    <tr>\n",
       "      <th>3.0</th>\n",
       "      <td>1959759</td>\n",
       "    </tr>\n",
       "    <tr>\n",
       "      <th>3.5</th>\n",
       "      <td>1270642</td>\n",
       "    </tr>\n",
       "    <tr>\n",
       "      <th>4.0</th>\n",
       "      <td>2652977</td>\n",
       "    </tr>\n",
       "    <tr>\n",
       "      <th>4.5</th>\n",
       "      <td>880516</td>\n",
       "    </tr>\n",
       "    <tr>\n",
       "      <th>5.0</th>\n",
       "      <td>1445230</td>\n",
       "    </tr>\n",
       "  </tbody>\n",
       "</table>\n",
       "</div>"
      ],
      "text/plain": [
       "          count\n",
       "rating         \n",
       "0.5      157571\n",
       "1.0      311213\n",
       "1.5      159731\n",
       "2.0      656821\n",
       "2.5      505578\n",
       "3.0     1959759\n",
       "3.5     1270642\n",
       "4.0     2652977\n",
       "4.5      880516\n",
       "5.0     1445230"
      ]
     },
     "execution_count": 43,
     "metadata": {},
     "output_type": "execute_result"
    }
   ],
   "source": [
    "#get count\n",
    "df_ratings_count = pd.DataFrame(rating.groupby('rating').size(), columns=['count'])\n",
    "df_ratings_count"
   ]
  },
  {
   "cell_type": "code",
   "execution_count": 44,
   "id": "c99c834e",
   "metadata": {},
   "outputs": [
    {
     "data": {
      "text/plain": [
       "10000038"
      ]
     },
     "execution_count": 44,
     "metadata": {},
     "output_type": "execute_result"
    }
   ],
   "source": [
    "#total ratings\n",
    "total_cnt = df_ratings_count['count'].sum()\n",
    "total_cnt"
   ]
  },
  {
   "cell_type": "code",
   "execution_count": 45,
   "id": "37b78b7e",
   "metadata": {},
   "outputs": [
    {
     "data": {
      "text/plain": [
       "<AxesSubplot:xlabel='rating'>"
      ]
     },
     "execution_count": 45,
     "metadata": {},
     "output_type": "execute_result"
    },
    {
     "data": {
      "text/plain": [
       "<Figure size 720x360 with 0 Axes>"
      ]
     },
     "metadata": {},
     "output_type": "display_data"
    },
    {
     "data": {
      "image/png": "[encoded data removed]",
      "text/plain": [
       "<Figure size 1080x720 with 1 Axes>"
      ]
     },
     "metadata": {},
     "output_type": "display_data"
    }
   ],
   "source": [
    "#plotting bar chart to represent count per rating category\n",
    "plt.figure(figsize =(10,5))\n",
    "\n",
    "pd.DataFrame(rating.groupby('rating').size(), columns=['count']).plot(kind ='bar', color = 'purple')"
   ]
  },
  {
   "cell_type": "code",
   "execution_count": 46,
   "id": "d38cd4f4",
   "metadata": {},
   "outputs": [
    {
     "data": {
      "text/html": [
       "<div>\n",
       "<style scoped>\n",
       "    .dataframe tbody tr th:only-of-type {\n",
       "        vertical-align: middle;\n",
       "    }\n",
       "\n",
       "    .dataframe tbody tr th {\n",
       "        vertical-align: top;\n",
       "    }\n",
       "\n",
       "    .dataframe thead th {\n",
       "        text-align: right;\n",
       "    }\n",
       "</style>\n",
       "<table border=\"1\" class=\"dataframe\">\n",
       "  <thead>\n",
       "    <tr style=\"text-align: right;\">\n",
       "      <th></th>\n",
       "      <th>count</th>\n",
       "    </tr>\n",
       "    <tr>\n",
       "      <th>movieId</th>\n",
       "      <th></th>\n",
       "    </tr>\n",
       "  </thead>\n",
       "  <tbody>\n",
       "    <tr>\n",
       "      <th>1</th>\n",
       "      <td>23062</td>\n",
       "    </tr>\n",
       "    <tr>\n",
       "      <th>2</th>\n",
       "      <td>9654</td>\n",
       "    </tr>\n",
       "    <tr>\n",
       "      <th>3</th>\n",
       "      <td>4727</td>\n",
       "    </tr>\n",
       "    <tr>\n",
       "      <th>4</th>\n",
       "      <td>968</td>\n",
       "    </tr>\n",
       "    <tr>\n",
       "      <th>5</th>\n",
       "      <td>4648</td>\n",
       "    </tr>\n",
       "  </tbody>\n",
       "</table>\n",
       "</div>"
      ],
      "text/plain": [
       "         count\n",
       "movieId       \n",
       "1        23062\n",
       "2         9654\n",
       "3         4727\n",
       "4          968\n",
       "5         4648"
      ]
     },
     "execution_count": 46,
     "metadata": {},
     "output_type": "execute_result"
    }
   ],
   "source": [
    "# get rating frequency\n",
    "df_movies_cnt = pd.DataFrame(rating.groupby('movieId').size(), columns=['count'])\n",
    "df_movies_cnt.head()"
   ]
  },
  {
   "cell_type": "code",
   "execution_count": 47,
   "id": "5b9dd722",
   "metadata": {},
   "outputs": [],
   "source": [
    "#takes time\n",
    "#pd.DataFrame(rating.groupby('movieId').size(), columns=['count']).plot(kind ='bar', color = 'orange')"
   ]
  },
  {
   "cell_type": "code",
   "execution_count": 48,
   "id": "7da9b2c4",
   "metadata": {},
   "outputs": [
    {
     "data": {
      "text/plain": [
       "Text(0, 0.5, 'number of ratings')"
      ]
     },
     "execution_count": 48,
     "metadata": {},
     "output_type": "execute_result"
    },
    {
     "data": {
      "image/png": "[encoded data removed]",
      "text/plain": [
       "<Figure size 864x576 with 1 Axes>"
      ]
     },
     "metadata": {},
     "output_type": "display_data"
    }
   ],
   "source": [
    "# plot rating frequency of all movies\n",
    "ax = df_movies_cnt \\\n",
    "    .sort_values('count', ascending=False) \\\n",
    "    .reset_index(drop=True) \\\n",
    "    .plot(\n",
    "        figsize=(12, 8),\n",
    "        title='Rating Frequency of All Movies',\n",
    "        fontsize=12\n",
    "    )\n",
    "ax.set_xlabel(\"movie Id\")\n",
    "ax.set_ylabel(\"number of ratings\")"
   ]
  },
  {
   "cell_type": "markdown",
   "id": "151276b8",
   "metadata": {},
   "source": [
    "The distribution of movie ratings frequently satisfies a property known as the long-tail property in real-world settings. The long tail property is supported by two hypotheses: the first is that the majority of consumers consistently follow the crowd and only a minority are interested in niche content; the second is that everyone is a bit eccentric, consuming both popular and specialty products. We discovered that the first hypothesis was correct. The vast majority of movies are rarely rated. As a result, the underlying ratings have a highly skewed distribution. Let's look at the movie distribution quartiles by rating now."
   ]
  },
  {
   "cell_type": "code",
   "execution_count": 49,
   "id": "c5e53363",
   "metadata": {},
   "outputs": [
    {
     "data": {
      "text/plain": [
       "1.0    32831.0\n",
       "0.9      252.0\n",
       "0.8       49.0\n",
       "0.7       15.0\n",
       "0.6        7.0\n",
       "0.5        4.0\n",
       "Name: count, dtype: float64"
      ]
     },
     "execution_count": 49,
     "metadata": {},
     "output_type": "execute_result"
    }
   ],
   "source": [
    "df_movies_cnt['count'].quantile(np.arange(1, 0.4, -0.1))"
   ]
  },
  {
   "cell_type": "markdown",
   "id": "09b42b5c",
   "metadata": {},
   "source": [
    "We can see that approximately 1% of movies have 32831 ratings, 10% have 252, 20% have 49, and 50% have four ratings. Because we have so many movies, we'll limit it to the top 25%. We want to limit our dataset to roughly 33147 movies for two reasons. We don't want the \"MemoryError\" to occur during model training.\n",
    "\n",
    "1.Improve model performance: less well-known films have fewer ratings, making the pattern noisier.\n",
    "\n",
    "2.Reducing the number of movies you watch can help you make better recommendations."
   ]
  },
  {
   "cell_type": "code",
   "execution_count": 50,
   "id": "e81cdb34",
   "metadata": {},
   "outputs": [
    {
     "name": "stdout",
     "output_type": "stream",
     "text": [
      "shape of original ratings data:  (10000038, 4)\n",
      "shape of ratings data after dropping unpopular movies:  (9752048, 4)\n"
     ]
    }
   ],
   "source": [
    "# filter data\n",
    "popularity_thres = 48\n",
    "popular_movies = list(set(df_movies_cnt.query('count >= @popularity_thres').index))\n",
    "df_ratings_drop_movies = rating[rating.movieId.isin(popular_movies)]\n",
    "\n",
    "print('shape of original ratings data: ', rating.shape)\n",
    "print('shape of ratings data after dropping unpopular movies: ', df_ratings_drop_movies.shape)"
   ]
  },
  {
   "cell_type": "code",
   "execution_count": 51,
   "id": "c9a9dae1",
   "metadata": {},
   "outputs": [
    {
     "data": {
      "text/html": [
       "<div>\n",
       "<style scoped>\n",
       "    .dataframe tbody tr th:only-of-type {\n",
       "        vertical-align: middle;\n",
       "    }\n",
       "\n",
       "    .dataframe tbody tr th {\n",
       "        vertical-align: top;\n",
       "    }\n",
       "\n",
       "    .dataframe thead th {\n",
       "        text-align: right;\n",
       "    }\n",
       "</style>\n",
       "<table border=\"1\" class=\"dataframe\">\n",
       "  <thead>\n",
       "    <tr style=\"text-align: right;\">\n",
       "      <th></th>\n",
       "      <th>count</th>\n",
       "    </tr>\n",
       "    <tr>\n",
       "      <th>userId</th>\n",
       "      <th></th>\n",
       "    </tr>\n",
       "  </thead>\n",
       "  <tbody>\n",
       "    <tr>\n",
       "      <th>1</th>\n",
       "      <td>26</td>\n",
       "    </tr>\n",
       "    <tr>\n",
       "      <th>2</th>\n",
       "      <td>72</td>\n",
       "    </tr>\n",
       "    <tr>\n",
       "      <th>3</th>\n",
       "      <td>250</td>\n",
       "    </tr>\n",
       "    <tr>\n",
       "      <th>4</th>\n",
       "      <td>87</td>\n",
       "    </tr>\n",
       "    <tr>\n",
       "      <th>5</th>\n",
       "      <td>35</td>\n",
       "    </tr>\n",
       "  </tbody>\n",
       "</table>\n",
       "</div>"
      ],
      "text/plain": [
       "        count\n",
       "userId       \n",
       "1          26\n",
       "2          72\n",
       "3         250\n",
       "4          87\n",
       "5          35"
      ]
     },
     "execution_count": 51,
     "metadata": {},
     "output_type": "execute_result"
    }
   ],
   "source": [
    "# get number of ratings given by every user\n",
    "df_users_cnt = pd.DataFrame(df_ratings_drop_movies.groupby('userId').size(), columns=['count'])\n",
    "df_users_cnt.head()"
   ]
  },
  {
   "cell_type": "code",
   "execution_count": 52,
   "id": "08af6222",
   "metadata": {},
   "outputs": [
    {
     "data": {
      "text/plain": [
       "1.0    3287.0\n",
       "0.9     140.0\n",
       "0.8      80.0\n",
       "0.7      53.0\n",
       "0.6      38.0\n",
       "0.5      28.0\n",
       "Name: count, dtype: float64"
      ]
     },
     "execution_count": 52,
     "metadata": {},
     "output_type": "execute_result"
    }
   ],
   "source": [
    "df_users_cnt['count'].quantile(np.arange(1, 0.4, -0.1))"
   ]
  },
  {
   "cell_type": "markdown",
   "id": "8771873b",
   "metadata": {},
   "source": [
    "When popular movies are viewed, a similar pattern is observed with active users. We can see that approximately 1% of users (3277), 10% of approximately 140, 20% with 80 users, and 70% with 53 users. This will be our arbitrary threshold for removing users with few ratings."
   ]
  },
  {
   "cell_type": "code",
   "execution_count": 53,
   "id": "6f6d0726",
   "metadata": {},
   "outputs": [
    {
     "name": "stdout",
     "output_type": "stream",
     "text": [
      "shape of original ratings data:  (10000038, 4)\n",
      "shape of ratings data after dropping both unpopular movies and inactive users:  (7285651, 4)\n"
     ]
    }
   ],
   "source": [
    "# filter data\n",
    "ratings_thres = 53\n",
    "active_users = list(set(df_users_cnt.query('count >= @ratings_thres').index))\n",
    "df_ratings_drop_users = df_ratings_drop_movies[df_ratings_drop_movies.userId.isin(active_users)]\n",
    "\n",
    "print('shape of original ratings data: ', rating.shape)\n",
    "print('shape of ratings data after dropping both unpopular movies and inactive users: ', df_ratings_drop_users.shape)"
   ]
  },
  {
   "cell_type": "code",
   "execution_count": 54,
   "id": "8e5eee8d",
   "metadata": {},
   "outputs": [],
   "source": [
    "new_df =df_ratings_drop_users.copy()"
   ]
  },
  {
   "cell_type": "markdown",
   "id": "26bbf5be",
   "metadata": {},
   "source": [
    "To get more insights into the datasets we need to merge datesets to create one dataframe. We will start with the movies and the new_df"
   ]
  },
  {
   "cell_type": "markdown",
   "id": "0d96f67e",
   "metadata": {},
   "source": [
    "## Merging datasets"
   ]
  },
  {
   "cell_type": "code",
   "execution_count": 55,
   "id": "ed15d00f",
   "metadata": {},
   "outputs": [
    {
     "data": {
      "text/html": [
       "<div>\n",
       "<style scoped>\n",
       "    .dataframe tbody tr th:only-of-type {\n",
       "        vertical-align: middle;\n",
       "    }\n",
       "\n",
       "    .dataframe tbody tr th {\n",
       "        vertical-align: top;\n",
       "    }\n",
       "\n",
       "    .dataframe thead th {\n",
       "        text-align: right;\n",
       "    }\n",
       "</style>\n",
       "<table border=\"1\" class=\"dataframe\">\n",
       "  <thead>\n",
       "    <tr style=\"text-align: right;\">\n",
       "      <th></th>\n",
       "      <th>userId</th>\n",
       "      <th>movieId</th>\n",
       "      <th>rating</th>\n",
       "      <th>timestamp</th>\n",
       "      <th>title</th>\n",
       "      <th>genres</th>\n",
       "    </tr>\n",
       "  </thead>\n",
       "  <tbody>\n",
       "    <tr>\n",
       "      <th>0</th>\n",
       "      <td>5163</td>\n",
       "      <td>57669</td>\n",
       "      <td>4.0</td>\n",
       "      <td>1518349992</td>\n",
       "      <td>In Bruges (2008)</td>\n",
       "      <td>Comedy|Crime|Drama|Thriller</td>\n",
       "    </tr>\n",
       "    <tr>\n",
       "      <th>1</th>\n",
       "      <td>87388</td>\n",
       "      <td>57669</td>\n",
       "      <td>3.5</td>\n",
       "      <td>1237455297</td>\n",
       "      <td>In Bruges (2008)</td>\n",
       "      <td>Comedy|Crime|Drama|Thriller</td>\n",
       "    </tr>\n",
       "    <tr>\n",
       "      <th>2</th>\n",
       "      <td>137050</td>\n",
       "      <td>57669</td>\n",
       "      <td>4.0</td>\n",
       "      <td>1425631854</td>\n",
       "      <td>In Bruges (2008)</td>\n",
       "      <td>Comedy|Crime|Drama|Thriller</td>\n",
       "    </tr>\n",
       "    <tr>\n",
       "      <th>3</th>\n",
       "      <td>120490</td>\n",
       "      <td>57669</td>\n",
       "      <td>4.5</td>\n",
       "      <td>1408228517</td>\n",
       "      <td>In Bruges (2008)</td>\n",
       "      <td>Comedy|Crime|Drama|Thriller</td>\n",
       "    </tr>\n",
       "    <tr>\n",
       "      <th>4</th>\n",
       "      <td>50616</td>\n",
       "      <td>57669</td>\n",
       "      <td>4.5</td>\n",
       "      <td>1446941640</td>\n",
       "      <td>In Bruges (2008)</td>\n",
       "      <td>Comedy|Crime|Drama|Thriller</td>\n",
       "    </tr>\n",
       "    <tr>\n",
       "      <th>...</th>\n",
       "      <td>...</td>\n",
       "      <td>...</td>\n",
       "      <td>...</td>\n",
       "      <td>...</td>\n",
       "      <td>...</td>\n",
       "      <td>...</td>\n",
       "    </tr>\n",
       "    <tr>\n",
       "      <th>10000033</th>\n",
       "      <td>84146</td>\n",
       "      <td>107912</td>\n",
       "      <td>3.0</td>\n",
       "      <td>1389449965</td>\n",
       "      <td>Fallen, The (2004)</td>\n",
       "      <td>Action|Drama|War</td>\n",
       "    </tr>\n",
       "    <tr>\n",
       "      <th>10000034</th>\n",
       "      <td>72315</td>\n",
       "      <td>190143</td>\n",
       "      <td>2.5</td>\n",
       "      <td>1567628158</td>\n",
       "      <td>Formentera Lady</td>\n",
       "      <td>(no genres listed)</td>\n",
       "    </tr>\n",
       "    <tr>\n",
       "      <th>10000035</th>\n",
       "      <td>131116</td>\n",
       "      <td>206347</td>\n",
       "      <td>3.0</td>\n",
       "      <td>1568558126</td>\n",
       "      <td>Nocturne (1946)</td>\n",
       "      <td>Crime|Drama|Mystery</td>\n",
       "    </tr>\n",
       "    <tr>\n",
       "      <th>10000036</th>\n",
       "      <td>85757</td>\n",
       "      <td>196867</td>\n",
       "      <td>3.5</td>\n",
       "      <td>1563175258</td>\n",
       "      <td>Guys &amp; Balls (2004)</td>\n",
       "      <td>Comedy|Romance</td>\n",
       "    </tr>\n",
       "    <tr>\n",
       "      <th>10000037</th>\n",
       "      <td>72315</td>\n",
       "      <td>97148</td>\n",
       "      <td>3.0</td>\n",
       "      <td>1567584197</td>\n",
       "      <td>Elia Kazan: A Director's Journey (1995)</td>\n",
       "      <td>Documentary</td>\n",
       "    </tr>\n",
       "  </tbody>\n",
       "</table>\n",
       "<p>10000038 rows × 6 columns</p>\n",
       "</div>"
      ],
      "text/plain": [
       "          userId  movieId  rating   timestamp  \\\n",
       "0           5163    57669     4.0  1518349992   \n",
       "1          87388    57669     3.5  1237455297   \n",
       "2         137050    57669     4.0  1425631854   \n",
       "3         120490    57669     4.5  1408228517   \n",
       "4          50616    57669     4.5  1446941640   \n",
       "...          ...      ...     ...         ...   \n",
       "10000033   84146   107912     3.0  1389449965   \n",
       "10000034   72315   190143     2.5  1567628158   \n",
       "10000035  131116   206347     3.0  1568558126   \n",
       "10000036   85757   196867     3.5  1563175258   \n",
       "10000037   72315    97148     3.0  1567584197   \n",
       "\n",
       "                                            title                       genres  \n",
       "0                                In Bruges (2008)  Comedy|Crime|Drama|Thriller  \n",
       "1                                In Bruges (2008)  Comedy|Crime|Drama|Thriller  \n",
       "2                                In Bruges (2008)  Comedy|Crime|Drama|Thriller  \n",
       "3                                In Bruges (2008)  Comedy|Crime|Drama|Thriller  \n",
       "4                                In Bruges (2008)  Comedy|Crime|Drama|Thriller  \n",
       "...                                           ...                          ...  \n",
       "10000033                       Fallen, The (2004)             Action|Drama|War  \n",
       "10000034                          Formentera Lady           (no genres listed)  \n",
       "10000035                          Nocturne (1946)          Crime|Drama|Mystery  \n",
       "10000036                      Guys & Balls (2004)               Comedy|Romance  \n",
       "10000037  Elia Kazan: A Director's Journey (1995)                  Documentary  \n",
       "\n",
       "[10000038 rows x 6 columns]"
      ]
     },
     "execution_count": 55,
     "metadata": {},
     "output_type": "execute_result"
    }
   ],
   "source": [
    "#To get more insights on the dataframes\n",
    "#we will use the original ratings dataframe since new_df has been altered\n",
    "movie_df = pd.merge(rating,movies, on  = 'movieId')\n",
    "movie_df"
   ]
  },
  {
   "cell_type": "code",
   "execution_count": 56,
   "id": "0cdb9bab",
   "metadata": {},
   "outputs": [
    {
     "data": {
      "text/html": [
       "<div>\n",
       "<style scoped>\n",
       "    .dataframe tbody tr th:only-of-type {\n",
       "        vertical-align: middle;\n",
       "    }\n",
       "\n",
       "    .dataframe tbody tr th {\n",
       "        vertical-align: top;\n",
       "    }\n",
       "\n",
       "    .dataframe thead th {\n",
       "        text-align: right;\n",
       "    }\n",
       "</style>\n",
       "<table border=\"1\" class=\"dataframe\">\n",
       "  <thead>\n",
       "    <tr style=\"text-align: right;\">\n",
       "      <th></th>\n",
       "      <th>title</th>\n",
       "      <th>rating_count</th>\n",
       "      <th>average_rating</th>\n",
       "    </tr>\n",
       "  </thead>\n",
       "  <tbody>\n",
       "    <tr>\n",
       "      <th>0</th>\n",
       "      <td>\"BLOW THE NIGHT!\" Let's Spend the Night Togeth...</td>\n",
       "      <td>1</td>\n",
       "      <td>3.0</td>\n",
       "    </tr>\n",
       "    <tr>\n",
       "      <th>1</th>\n",
       "      <td>Love's Coming (2014)</td>\n",
       "      <td>1</td>\n",
       "      <td>2.0</td>\n",
       "    </tr>\n",
       "    <tr>\n",
       "      <th>2</th>\n",
       "      <td>Love's Brother (2004)</td>\n",
       "      <td>1</td>\n",
       "      <td>2.0</td>\n",
       "    </tr>\n",
       "    <tr>\n",
       "      <th>3</th>\n",
       "      <td>Love's Abiding Joy (2006)</td>\n",
       "      <td>1</td>\n",
       "      <td>4.0</td>\n",
       "    </tr>\n",
       "    <tr>\n",
       "      <th>4</th>\n",
       "      <td>Love on the Dole (1941)</td>\n",
       "      <td>1</td>\n",
       "      <td>3.0</td>\n",
       "    </tr>\n",
       "    <tr>\n",
       "      <th>...</th>\n",
       "      <td>...</td>\n",
       "      <td>...</td>\n",
       "      <td>...</td>\n",
       "    </tr>\n",
       "    <tr>\n",
       "      <th>48146</th>\n",
       "      <td>Matrix, The (1999)</td>\n",
       "      <td>29014</td>\n",
       "      <td>4.0</td>\n",
       "    </tr>\n",
       "    <tr>\n",
       "      <th>48147</th>\n",
       "      <td>Silence of the Lambs, The (1991)</td>\n",
       "      <td>29444</td>\n",
       "      <td>4.0</td>\n",
       "    </tr>\n",
       "    <tr>\n",
       "      <th>48148</th>\n",
       "      <td>Pulp Fiction (1994)</td>\n",
       "      <td>31697</td>\n",
       "      <td>4.0</td>\n",
       "    </tr>\n",
       "    <tr>\n",
       "      <th>48149</th>\n",
       "      <td>Forrest Gump (1994)</td>\n",
       "      <td>32383</td>\n",
       "      <td>4.0</td>\n",
       "    </tr>\n",
       "    <tr>\n",
       "      <th>48150</th>\n",
       "      <td>Shawshank Redemption, The (1994)</td>\n",
       "      <td>32831</td>\n",
       "      <td>4.0</td>\n",
       "    </tr>\n",
       "  </tbody>\n",
       "</table>\n",
       "<p>48151 rows × 3 columns</p>\n",
       "</div>"
      ],
      "text/plain": [
       "                                                   title  rating_count  \\\n",
       "0      \"BLOW THE NIGHT!\" Let's Spend the Night Togeth...             1   \n",
       "1                                   Love's Coming (2014)             1   \n",
       "2                                  Love's Brother (2004)             1   \n",
       "3                              Love's Abiding Joy (2006)             1   \n",
       "4                                Love on the Dole (1941)             1   \n",
       "...                                                  ...           ...   \n",
       "48146                                 Matrix, The (1999)         29014   \n",
       "48147                   Silence of the Lambs, The (1991)         29444   \n",
       "48148                                Pulp Fiction (1994)         31697   \n",
       "48149                                Forrest Gump (1994)         32383   \n",
       "48150                   Shawshank Redemption, The (1994)         32831   \n",
       "\n",
       "       average_rating  \n",
       "0                 3.0  \n",
       "1                 2.0  \n",
       "2                 2.0  \n",
       "3                 4.0  \n",
       "4                 3.0  \n",
       "...               ...  \n",
       "48146             4.0  \n",
       "48147             4.0  \n",
       "48148             4.0  \n",
       "48149             4.0  \n",
       "48150             4.0  \n",
       "\n",
       "[48151 rows x 3 columns]"
      ]
     },
     "execution_count": 56,
     "metadata": {},
     "output_type": "execute_result"
    }
   ],
   "source": [
    "#dataframe for average rating\n",
    "avg_movie_df = movie_df.groupby('title')['rating'].mean().sort_values(ascending = False).reset_index().rename(columns= {'rating': 'average_rating'})\n",
    "movies_ranting_count = movie_df.groupby('title')['rating'].count().sort_values(ascending = True).reset_index().rename(columns= {'rating': 'rating_count'})\n",
    "#meging the two dataframes\n",
    "movies_rating_count_df = movies_ranting_count.merge(round(avg_movie_df,0), on= 'title')\n",
    "movies_rating_count_df"
   ]
  },
  {
   "cell_type": "markdown",
   "id": "816add65",
   "metadata": {},
   "source": [
    "From the plot above we can see that the most rated or liked movie is Shawshank Redemption with average rating of 4.0 and Love's coming together with Love;s brother with average rating of 2.0."
   ]
  },
  {
   "cell_type": "code",
   "execution_count": 57,
   "id": "4b5c13ce",
   "metadata": {},
   "outputs": [
    {
     "data": {
      "text/plain": [
       "<AxesSubplot:xlabel='rating', ylabel='Count'>"
      ]
     },
     "execution_count": 57,
     "metadata": {},
     "output_type": "execute_result"
    },
    {
     "data": {
      "image/png": "[encoded data removed]",
      "text/plain": [
       "<Figure size 720x360 with 2 Axes>"
      ]
     },
     "metadata": {},
     "output_type": "display_data"
    }
   ],
   "source": [
    "plt.figure(figsize =(10,5))\n",
    "plt.subplot(1,2, 1)\n",
    "sns.histplot(data= movies_rating_count_df, x= 'average_rating', bins = 10)\n",
    "\n",
    "plt.subplot(1,2, 2)\n",
    "sns.histplot(data= movie_df, x= 'rating', bins = 10, color= 'orange')"
   ]
  },
  {
   "cell_type": "markdown",
   "id": "f2c67667",
   "metadata": {},
   "source": [
    "Observation: The plots show that the rating distribution is different. When the rating is taken without the average, there are a large number of rated movies, which can lead to the bias of thinking a movie is highly rated when it was only rated by a few people. The change has been effected into the new_df, where inactive users and low rated movies are removed.\n",
    "\n",
    "To get insights about who is the most director, movie genre we need to merge the following datasets"
   ]
  },
  {
   "cell_type": "code",
   "execution_count": 58,
   "id": "6e9eed82",
   "metadata": {},
   "outputs": [
    {
     "data": {
      "text/html": [
       "<div>\n",
       "<style scoped>\n",
       "    .dataframe tbody tr th:only-of-type {\n",
       "        vertical-align: middle;\n",
       "    }\n",
       "\n",
       "    .dataframe tbody tr th {\n",
       "        vertical-align: top;\n",
       "    }\n",
       "\n",
       "    .dataframe thead th {\n",
       "        text-align: right;\n",
       "    }\n",
       "</style>\n",
       "<table border=\"1\" class=\"dataframe\">\n",
       "  <thead>\n",
       "    <tr style=\"text-align: right;\">\n",
       "      <th></th>\n",
       "      <th>movieId</th>\n",
       "      <th>title_cast</th>\n",
       "      <th>director</th>\n",
       "      <th>plot_keywords</th>\n",
       "      <th>genres</th>\n",
       "      <th>title</th>\n",
       "    </tr>\n",
       "  </thead>\n",
       "  <tbody>\n",
       "    <tr>\n",
       "      <th>0</th>\n",
       "      <td>1</td>\n",
       "      <td>Tom Hanks|Tim Allen|Don Rickles|Jim Varney|Wal...</td>\n",
       "      <td>John Lasseter</td>\n",
       "      <td>toy|rivalry|cowboy|cgi animation</td>\n",
       "      <td>Adventure|Animation|Children|Comedy|Fantasy</td>\n",
       "      <td>Toy Story (1995)</td>\n",
       "    </tr>\n",
       "    <tr>\n",
       "      <th>1</th>\n",
       "      <td>2</td>\n",
       "      <td>Robin Williams|Jonathan Hyde|Kirsten Dunst|Bra...</td>\n",
       "      <td>Jonathan Hensleigh</td>\n",
       "      <td>board game|adventurer|fight|game</td>\n",
       "      <td>Adventure|Children|Fantasy</td>\n",
       "      <td>Jumanji (1995)</td>\n",
       "    </tr>\n",
       "    <tr>\n",
       "      <th>2</th>\n",
       "      <td>3</td>\n",
       "      <td>Walter Matthau|Jack Lemmon|Sophia Loren|Ann-Ma...</td>\n",
       "      <td>Mark Steven Johnson</td>\n",
       "      <td>boat|lake|neighbor|rivalry</td>\n",
       "      <td>Comedy|Romance</td>\n",
       "      <td>Grumpier Old Men (1995)</td>\n",
       "    </tr>\n",
       "    <tr>\n",
       "      <th>3</th>\n",
       "      <td>4</td>\n",
       "      <td>Whitney Houston|Angela Bassett|Loretta Devine|...</td>\n",
       "      <td>Terry McMillan</td>\n",
       "      <td>black american|husband wife relationship|betra...</td>\n",
       "      <td>Comedy|Drama|Romance</td>\n",
       "      <td>Waiting to Exhale (1995)</td>\n",
       "    </tr>\n",
       "    <tr>\n",
       "      <th>4</th>\n",
       "      <td>5</td>\n",
       "      <td>Steve Martin|Diane Keaton|Martin Short|Kimberl...</td>\n",
       "      <td>Albert Hackett</td>\n",
       "      <td>fatherhood|doberman|dog|mansion</td>\n",
       "      <td>Comedy</td>\n",
       "      <td>Father of the Bride Part II (1995)</td>\n",
       "    </tr>\n",
       "  </tbody>\n",
       "</table>\n",
       "</div>"
      ],
      "text/plain": [
       "   movieId                                         title_cast  \\\n",
       "0        1  Tom Hanks|Tim Allen|Don Rickles|Jim Varney|Wal...   \n",
       "1        2  Robin Williams|Jonathan Hyde|Kirsten Dunst|Bra...   \n",
       "2        3  Walter Matthau|Jack Lemmon|Sophia Loren|Ann-Ma...   \n",
       "3        4  Whitney Houston|Angela Bassett|Loretta Devine|...   \n",
       "4        5  Steve Martin|Diane Keaton|Martin Short|Kimberl...   \n",
       "\n",
       "              director                                      plot_keywords  \\\n",
       "0        John Lasseter                   toy|rivalry|cowboy|cgi animation   \n",
       "1   Jonathan Hensleigh                   board game|adventurer|fight|game   \n",
       "2  Mark Steven Johnson                         boat|lake|neighbor|rivalry   \n",
       "3       Terry McMillan  black american|husband wife relationship|betra...   \n",
       "4       Albert Hackett                    fatherhood|doberman|dog|mansion   \n",
       "\n",
       "                                        genres  \\\n",
       "0  Adventure|Animation|Children|Comedy|Fantasy   \n",
       "1                   Adventure|Children|Fantasy   \n",
       "2                               Comedy|Romance   \n",
       "3                         Comedy|Drama|Romance   \n",
       "4                                       Comedy   \n",
       "\n",
       "                                title  \n",
       "0                    Toy Story (1995)  \n",
       "1                      Jumanji (1995)  \n",
       "2             Grumpier Old Men (1995)  \n",
       "3            Waiting to Exhale (1995)  \n",
       "4  Father of the Bride Part II (1995)  "
      ]
     },
     "execution_count": 58,
     "metadata": {},
     "output_type": "execute_result"
    }
   ],
   "source": [
    "df = imbd_data[['movieId','title_cast','director', 'plot_keywords']]\n",
    "df = df.merge(movies[['movieId', 'genres', 'title']], on='movieId', how='inner')\n",
    "df.head()"
   ]
  },
  {
   "cell_type": "markdown",
   "id": "34877bdb",
   "metadata": {},
   "source": [
    "Now we need to manipulate the columns that we call be able to call them as strings"
   ]
  },
  {
   "cell_type": "code",
   "execution_count": 59,
   "id": "34a63203",
   "metadata": {},
   "outputs": [],
   "source": [
    "# Convert data types to strings for string handling\n",
    "df['title_cast'] = df.title_cast.astype(str)\n",
    "df['plot_keywords'] = df.plot_keywords.astype(str)\n",
    "df['genres'] = df.genres.astype(str)\n",
    "df['director'] = df.director.astype(str)\n",
    "\n",
    "# Removing spaces between names\n",
    "df['director'] = df['director'].apply(lambda x: \"\".join(x.lower() for x in x.split()))\n",
    "df['title_cast'] = df['title_cast'].apply(lambda x: \"\".join(x.lower() for x in x.split()))\n",
    "\n",
    "# Discarding the pipes between the actors' full names and getting only the first three names\n",
    "df['title_cast'] = df['title_cast'].map(lambda x: x.split('|')[:3])\n",
    "\n",
    "# Discarding the pipes between the plot keywords' and getting only the first five words\n",
    "df['plot_keywords'] = df['plot_keywords'].map(lambda x: x.split('|')[:5])\n",
    "df['plot_keywords'] = df['plot_keywords'].apply(lambda x: \" \".join(x))\n",
    "\n",
    "# Discarding the pipes between the genres \n",
    "df['genres'] = df['genres'].map(lambda x: x.lower().split('|'))\n",
    "df['genres'] = df['genres'].apply(lambda x: \" \".join(x))"
   ]
  },
  {
   "cell_type": "markdown",
   "id": "629d9f58",
   "metadata": {},
   "source": [
    "We can now handle the strings from the data, now we create a fuction that will be able to call the wordclouds"
   ]
  },
  {
   "cell_type": "code",
   "execution_count": 60,
   "id": "e978cef4",
   "metadata": {},
   "outputs": [],
   "source": [
    "def wordcloud_generator(df, column):  \n",
    "    \"\"\"\n",
    "    This function extracts all the unique keywords in a column\n",
    "    and counts the number of times each keyword occurs in the column\n",
    "    while ignoring words that are not meaningful.\n",
    "    these keywords are then used to generate a word cloud \n",
    "    \n",
    "    Input: df\n",
    "           datatype: DataFrame\n",
    "           column\n",
    "           datatype: str\n",
    "           \n",
    "    Output: wordcloud\n",
    "            Datatype: None\n",
    "            \n",
    "    \"\"\"    \n",
    "    keyword_counts = {}\n",
    "    keyword_pair = []\n",
    "    words = dict()\n",
    "    \n",
    "    # list of words that should be ignored\n",
    "    ignore = ['nan', ' nan', 'nan ', 'seefullsummary', ' seefullsummary', 'seefullsummary ']\n",
    "    \n",
    "    # Extract the unique keywords \n",
    "    for keyword in [keyword for keyword in df[column] if keyword not in ignore]:\n",
    "        if keyword in keyword_counts.keys():\n",
    "            keyword_counts[keyword] += 1\n",
    "        else:\n",
    "            keyword_counts[keyword] = 1\n",
    "     \n",
    "    # Pair the keywords with their frequencies\n",
    "    for word,word_freq in keyword_counts.items():\n",
    "        keyword_pair.append((word,word_freq))\n",
    "    # Sort the keywords accprding to their frequencies\n",
    "    keyword_pair.sort(key = lambda x: x[1],reverse=True)\n",
    "    \n",
    "    # Make it wordcloud-ready\n",
    "    for s in keyword_pair:\n",
    "        words[s[0]] = s[1]\n",
    "        \n",
    "    # Create a wordcloud using the top 2000 keywords\n",
    "    wordcloud = WordCloud(width=800, \n",
    "                          height=500, \n",
    "                          background_color='black', \n",
    "                          max_words=2000,\n",
    "                          max_font_size=110,\n",
    "                          scale=3,\n",
    "                          random_state=0,\n",
    "                          colormap='Greens').generate_from_frequencies(words)\n",
    "\n",
    "    return wordcloud "
   ]
  },
  {
   "cell_type": "code",
   "execution_count": 61,
   "id": "00b034b0",
   "metadata": {},
   "outputs": [
    {
     "ename": "NameError",
     "evalue": "name 'WordCloud' is not defined",
     "output_type": "error",
     "traceback": [
      "\u001b[1;31m---------------------------------------------------------------------------\u001b[0m",
      "\u001b[1;31mNameError\u001b[0m                                 Traceback (most recent call last)",
      "\u001b[1;32mC:\\Users\\ATLEGA~1\\AppData\\Local\\Temp/ipykernel_11396/283156834.py\u001b[0m in \u001b[0;36m<module>\u001b[1;34m\u001b[0m\n\u001b[0;32m      1\u001b[0m \u001b[1;31m# Plot wordcloud\u001b[0m\u001b[1;33m\u001b[0m\u001b[1;33m\u001b[0m\u001b[0m\n\u001b[1;32m----> 2\u001b[1;33m \u001b[0mplot_keywords\u001b[0m \u001b[1;33m=\u001b[0m \u001b[0mwordcloud_generator\u001b[0m\u001b[1;33m(\u001b[0m\u001b[0mdf\u001b[0m\u001b[1;33m,\u001b[0m \u001b[1;34m'plot_keywords'\u001b[0m\u001b[1;33m)\u001b[0m\u001b[1;33m\u001b[0m\u001b[1;33m\u001b[0m\u001b[0m\n\u001b[0m\u001b[0;32m      3\u001b[0m \u001b[0mf\u001b[0m \u001b[1;33m=\u001b[0m \u001b[0mplt\u001b[0m\u001b[1;33m.\u001b[0m\u001b[0mfigure\u001b[0m\u001b[1;33m(\u001b[0m\u001b[0mfigsize\u001b[0m\u001b[1;33m=\u001b[0m\u001b[1;33m(\u001b[0m\u001b[1;36m20\u001b[0m\u001b[1;33m,\u001b[0m \u001b[1;36m8\u001b[0m\u001b[1;33m)\u001b[0m\u001b[1;33m)\u001b[0m\u001b[1;33m\u001b[0m\u001b[1;33m\u001b[0m\u001b[0m\n\u001b[0;32m      4\u001b[0m \u001b[0mplt\u001b[0m\u001b[1;33m.\u001b[0m\u001b[0mimshow\u001b[0m\u001b[1;33m(\u001b[0m\u001b[0mplot_keywords\u001b[0m\u001b[1;33m)\u001b[0m\u001b[1;33m\u001b[0m\u001b[1;33m\u001b[0m\u001b[0m\n\u001b[0;32m      5\u001b[0m \u001b[0mplt\u001b[0m\u001b[1;33m.\u001b[0m\u001b[0maxis\u001b[0m\u001b[1;33m(\u001b[0m\u001b[1;34m'off'\u001b[0m\u001b[1;33m)\u001b[0m\u001b[1;33m\u001b[0m\u001b[1;33m\u001b[0m\u001b[0m\n",
      "\u001b[1;32mC:\\Users\\ATLEGA~1\\AppData\\Local\\Temp/ipykernel_11396/1689805786.py\u001b[0m in \u001b[0;36mwordcloud_generator\u001b[1;34m(df, column)\u001b[0m\n\u001b[0;32m     40\u001b[0m \u001b[1;33m\u001b[0m\u001b[0m\n\u001b[0;32m     41\u001b[0m     \u001b[1;31m# Create a wordcloud using the top 2000 keywords\u001b[0m\u001b[1;33m\u001b[0m\u001b[1;33m\u001b[0m\u001b[0m\n\u001b[1;32m---> 42\u001b[1;33m     wordcloud = WordCloud(width=800, \n\u001b[0m\u001b[0;32m     43\u001b[0m                           \u001b[0mheight\u001b[0m\u001b[1;33m=\u001b[0m\u001b[1;36m500\u001b[0m\u001b[1;33m,\u001b[0m\u001b[1;33m\u001b[0m\u001b[1;33m\u001b[0m\u001b[0m\n\u001b[0;32m     44\u001b[0m                           \u001b[0mbackground_color\u001b[0m\u001b[1;33m=\u001b[0m\u001b[1;34m'black'\u001b[0m\u001b[1;33m,\u001b[0m\u001b[1;33m\u001b[0m\u001b[1;33m\u001b[0m\u001b[0m\n",
      "\u001b[1;31mNameError\u001b[0m: name 'WordCloud' is not defined"
     ]
    }
   ],
   "source": [
    "# Plot wordcloud\n",
    "plot_keywords = wordcloud_generator(df, 'plot_keywords')\n",
    "f = plt.figure(figsize=(20, 8)) \n",
    "plt.imshow(plot_keywords) \n",
    "plt.axis('off') \n",
    "plt.title('Plot keywords\\n', fontsize=25)\n",
    "plt.show()"
   ]
  },
  {
   "cell_type": "code",
   "execution_count": null,
   "id": "1623b869",
   "metadata": {},
   "outputs": [],
   "source": [
    "# Plot genres\n",
    "plot_genres = wordcloud_generator(df, 'genres')\n",
    "f = plt.figure(figsize=(20, 8)) \n",
    "plt.imshow(plot_keywords) \n",
    "plt.axis('off') \n",
    "plt.title('genres\\n', fontsize=25)\n",
    "plt.show()"
   ]
  },
  {
   "cell_type": "code",
   "execution_count": null,
   "id": "625a7096",
   "metadata": {},
   "outputs": [],
   "source": [
    "# Generate a wordcloud using the 2000 most frequently occuring actors' names in the dataset\n",
    "df['title_cast'] = df['title_cast'].apply(lambda x: \" \".join(x))\n",
    "actors = wordcloud_generator(df, 'title_cast')\n",
    "\n",
    "# plot the WordCloud                        \n",
    "f = plt.figure(figsize=(20, 8)) \n",
    "plt.imshow(actors) \n",
    "plt.axis('off') \n",
    "plt.title('Actors\\n', fontsize=25)\n",
    "plt.show()"
   ]
  },
  {
   "cell_type": "markdown",
   "id": "f6afe6a2",
   "metadata": {},
   "source": [
    "According to the wordcloud, the most frequently searched key words are: Documentary, action, Comedy, sex, and Rated are the most popular movies. Furthermore, we can see that the searched genres are nearly identical to keywords; genres such as Action, Documentary, rated, and so on are prominent in this category. While it is clear that users primarily look for actors such as Eddie Murphy, Cameron Diaz, and Mike Myers."
   ]
  },
  {
   "cell_type": "code",
   "execution_count": null,
   "id": "b88cdf2c",
   "metadata": {},
   "outputs": [],
   "source": []
  }
 ],
 "metadata": {
  "kernelspec": {
   "display_name": "Python 3 (ipykernel)",
   "language": "python",
   "name": "python3"
  },
  "language_info": {
   "codemirror_mode": {
    "name": "ipython",
    "version": 3
   },
   "file_extension": ".py",
   "mimetype": "text/x-python",
   "name": "python",
   "nbconvert_exporter": "python",
   "pygments_lexer": "ipython3",
   "version": "3.9.7"
  }
 },
 "nbformat": 4,
 "nbformat_minor": 5
}
